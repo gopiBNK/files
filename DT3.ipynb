{
  "nbformat": 4,
  "nbformat_minor": 0,
  "metadata": {
    "colab": {
      "provenance": [],
      "authorship_tag": "ABX9TyPo1NzRzIoHeh0vpUYvoSoi",
      "include_colab_link": true
    },
    "kernelspec": {
      "name": "python3",
      "display_name": "Python 3"
    },
    "language_info": {
      "name": "python"
    }
  },
  "cells": [
    {
      "cell_type": "markdown",
      "metadata": {
        "id": "view-in-github",
        "colab_type": "text"
      },
      "source": [
        "<a href=\"https://colab.research.google.com/github/gopiBNK/files/blob/main/DT3.ipynb\" target=\"_parent\"><img src=\"https://colab.research.google.com/assets/colab-badge.svg\" alt=\"Open In Colab\"/></a>"
      ]
    },
    {
      "cell_type": "code",
      "execution_count": null,
      "metadata": {
        "id": "oJUvM9nkzQdU"
      },
      "outputs": [],
      "source": [
        "import numpy as np\n",
        "import pandas as pd\n",
        "from sklearn.tree import DecisionTreeClassifier\n",
        "from sklearn.model_selection import train_test_split\n",
        "from sklearn.metrics import accuracy_score, confusion_matrix\n",
        "\n",
        "\n",
        "iris_data = pd.read_csv('iris.csv')\n",
        "iris_data['Species'].nunique()\n",
        "features = iris_data.drop('Species', axis=1)\n",
        "target = iris_data['Species']\n",
        "\n",
        "X_train, X_test, y_train, y_test = train_test_split(features, target, test_size=0.3, random_state=42)\n",
        "\n",
        "\n",
        "decision_tree = DecisionTreeClassifier()\n",
        "decision_tree.fit(X_train, y_train)\n",
        "\n",
        "predictions = decision_tree.predict(X_test)\n",
        "\n",
        "model_accuracy = accuracy_score(y_test, predictions)\n",
        "confusion_mat = confusion_matrix(y_test, predictions)\n",
        "\n",
        "print(\"Accuracy:\", model_accuracy)\n",
        "print(\"Confusion Matrix:\\n\", confusion_mat)\n"
      ]
    }
  ]
}