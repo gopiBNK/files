{
  "nbformat": 4,
  "nbformat_minor": 0,
  "metadata": {
    "colab": {
      "provenance": [],
      "authorship_tag": "ABX9TyPtbysGglKXGKTvAlZYDhkl",
      "include_colab_link": true
    },
    "kernelspec": {
      "name": "python3",
      "display_name": "Python 3"
    },
    "language_info": {
      "name": "python"
    }
  },
  "cells": [
    {
      "cell_type": "markdown",
      "metadata": {
        "id": "view-in-github",
        "colab_type": "text"
      },
      "source": [
        "<a href=\"https://colab.research.google.com/github/gopiBNK/files/blob/main/Untitled1.ipynb\" target=\"_parent\"><img src=\"https://colab.research.google.com/assets/colab-badge.svg\" alt=\"Open In Colab\"/></a>"
      ]
    },
    {
      "cell_type": "code",
      "execution_count": null,
      "metadata": {
        "id": "uujAa_cREdvx"
      },
      "outputs": [],
      "source": [
        "import pandas as pd\n",
        "from sklearn.feature_selection import VarianceThreshold\n",
        "from sklearn.model_selection import train_test_split\n",
        "from sklearn.linear_model import LinearRegression\n",
        "from sklearn.metrics import mean_squared_error\n",
        "\n",
        "housing_data = pd.read_csv('melbourne_housing.csv')\n",
        "\n",
        "cleaned_data = housing_data.dropna()\n",
        "\n",
        "X = cleaned_data.drop(columns=['Price'])\n",
        "y = cleaned_data['Price']\n",
        "\n",
        "variance_filter = VarianceThreshold(threshold=0.1)\n",
        "X_filtered = variance_filter.fit_transform(X)\n",
        "\n",
        "X_train, X_test, y_train, y_test = train_test_split(X_filtered, y, test_size=0.2, random_state=42)\n",
        "\n",
        "linear_model = LinearRegression()\n",
        "linear_model.fit(X_train, y_train)\n",
        "\n",
        "predictions = linear_model.predict(X_test)\n",
        "mse_value = mean_squared_error(y_test, predictions)\n",
        "print(f\"Mean Squared Error after applying variance threshold filtering: {mse_value}\")\n"
      ]
    }
  ]
}