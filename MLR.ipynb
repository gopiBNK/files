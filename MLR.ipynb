{
  "nbformat": 4,
  "nbformat_minor": 0,
  "metadata": {
    "colab": {
      "provenance": [],
      "authorship_tag": "ABX9TyPywoR3UAFye+5As1jQrpdy",
      "include_colab_link": true
    },
    "kernelspec": {
      "name": "python3",
      "display_name": "Python 3"
    },
    "language_info": {
      "name": "python"
    }
  },
  "cells": [
    {
      "cell_type": "markdown",
      "metadata": {
        "id": "view-in-github",
        "colab_type": "text"
      },
      "source": [
        "<a href=\"https://colab.research.google.com/github/gopiBNK/files/blob/main/MLR.ipynb\" target=\"_parent\"><img src=\"https://colab.research.google.com/assets/colab-badge.svg\" alt=\"Open In Colab\"/></a>"
      ]
    },
    {
      "cell_type": "code",
      "execution_count": 1,
      "metadata": {
        "colab": {
          "base_uri": "https://localhost:8080/"
        },
        "id": "W4fxE_bbYtXf",
        "outputId": "724d1587-3955-4af6-c847-828ba50d543d"
      },
      "outputs": [
        {
          "output_type": "stream",
          "name": "stdout",
          "text": [
            "R-squared (R²): 0.5996\n",
            "Mean Squared Error (MSE): 4982411.6518\n",
            "Root Mean Squared Error (RMSE): 2232.1316\n",
            "Mean Absolute Error (MAE): 1109.9235\n"
          ]
        }
      ],
      "source": [
        "import pandas as pd\n",
        "import numpy as np\n",
        "\n",
        "corolla_data = pd.read_csv('ToyotaCorolla.csv')\n",
        "features = [\"Price\", \"Age_08_04\", \"KM\", \"HP\", \"cc\", \"Doors\", \"Gears\", \"Quarterly_Tax\", \"Weight\"]\n",
        "corolla_data = corolla_data[features]\n",
        "\n",
        "X = corolla_data.drop('Price', axis=1)\n",
        "y = corolla_data['Price']\n",
        "\n",
        "from sklearn.preprocessing import StandardScaler\n",
        "scaler = StandardScaler()\n",
        "X_scaled = scaler.fit_transform(X)\n",
        "\n",
        "from sklearn.model_selection import train_test_split\n",
        "X_train, X_test, y_train, y_test = train_test_split(X_scaled, y, test_size=0.2, random_state=0)\n",
        "\n",
        "from sklearn.linear_model import LinearRegression\n",
        "linear_model = LinearRegression()\n",
        "linear_model.fit(X_train, y_train)\n",
        "y_pred = linear_model.predict(X_test)\n",
        "\n",
        "from sklearn.metrics import mean_squared_error, mean_absolute_error, r2_score\n",
        "r2_value = r2_score(y_test, y_pred)\n",
        "mse_value = mean_squared_error(y_test, y_pred)\n",
        "rmse_value = np.sqrt(mse_value)\n",
        "mae_value = mean_absolute_error(y_test, y_pred)\n",
        "\n",
        "print(f'R-squared (R²): {r2_value:.4f}')\n",
        "print(f'Mean Squared Error (MSE): {mse_value:.4f}')\n",
        "print(f'Root Mean Squared Error (RMSE): {rmse_value:.4f}')\n",
        "print(f'Mean Absolute Error (MAE): {mae_value:.4f}')\n"
      ]
    }
  ]
}