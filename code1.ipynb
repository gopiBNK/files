{
  "nbformat": 4,
  "nbformat_minor": 0,
  "metadata": {
    "colab": {
      "provenance": [],
      "authorship_tag": "ABX9TyPXE+XcRAcavbslyhUWtAK8",
      "include_colab_link": true
    },
    "kernelspec": {
      "name": "python3",
      "display_name": "Python 3"
    },
    "language_info": {
      "name": "python"
    }
  },
  "cells": [
    {
      "cell_type": "markdown",
      "metadata": {
        "id": "view-in-github",
        "colab_type": "text"
      },
      "source": [
        "<a href=\"https://colab.research.google.com/github/gopiBNK/files/blob/main/code1.ipynb\" target=\"_parent\"><img src=\"https://colab.research.google.com/assets/colab-badge.svg\" alt=\"Open In Colab\"/></a>"
      ]
    },
    {
      "cell_type": "code",
      "execution_count": 2,
      "metadata": {
        "colab": {
          "base_uri": "https://localhost:8080/"
        },
        "id": "mx69p29318Uq",
        "outputId": "7ec1f4d0-1d81-48c7-bd05-244093317665"
      },
      "outputs": [
        {
          "output_type": "stream",
          "name": "stdout",
          "text": [
            "1x10 Vector: [ 1  2  3  4  5  6  7  8  9 10]\n",
            "Mean: 5.5000\n",
            "Sample Variance: 9.1667\n",
            "Population Variance: 8.2500\n"
          ]
        }
      ],
      "source": [
        "import numpy as np\n",
        "num_elements = 10\n",
        "data_vector = np.array([1, 2, 3, 4, 5, 6, 7, 8, 9, 10])\n",
        "mean_value = np.mean(data_vector)\n",
        "sample_var = np.var(data_vector, ddof=1)\n",
        "population_var = np.var(data_vector)\n",
        "print(f'1x{num_elements} Vector: {data_vector}')\n",
        "print(f'Mean: {mean_value:.4f}')\n",
        "print(f'Sample Variance: {sample_var:.4f}')\n",
        "print(f'Population Variance: {population_var:.4f}')\n"
      ]
    }
  ]
}