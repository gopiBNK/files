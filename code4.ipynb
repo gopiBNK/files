{
  "nbformat": 4,
  "nbformat_minor": 0,
  "metadata": {
    "colab": {
      "provenance": [],
      "authorship_tag": "ABX9TyOjxVqEWuISVloo7bEtxV6K",
      "include_colab_link": true
    },
    "kernelspec": {
      "name": "python3",
      "display_name": "Python 3"
    },
    "language_info": {
      "name": "python"
    }
  },
  "cells": [
    {
      "cell_type": "markdown",
      "metadata": {
        "id": "view-in-github",
        "colab_type": "text"
      },
      "source": [
        "<a href=\"https://colab.research.google.com/github/gopiBNK/files/blob/main/code4.ipynb\" target=\"_parent\"><img src=\"https://colab.research.google.com/assets/colab-badge.svg\" alt=\"Open In Colab\"/></a>"
      ]
    },
    {
      "cell_type": "code",
      "execution_count": 1,
      "metadata": {
        "colab": {
          "base_uri": "https://localhost:8080/"
        },
        "id": "8CqQSxFX84h1",
        "outputId": "cc8b5b75-f032-4941-9dc4-4f9690f2eac9"
      },
      "outputs": [
        {
          "output_type": "stream",
          "name": "stdout",
          "text": [
            "Original Matrix (4x5):\n",
            "[[1.2 3.5 5.7 2.1 4.4]\n",
            " [6.8 2.4 3.6 8.7 5.9]\n",
            " [4.3 7.1 8.2 1.4 3.7]\n",
            " [9.8 2.1 4.5 6.2 7. ]]\n",
            "\n",
            "Covariance Matrix (4x4):\n",
            "[[ 3.207  -2.8255  3.121  -2.867 ]\n",
            " [-2.8255  6.327  -6.3865  5.228 ]\n",
            " [ 3.121  -6.3865  7.443  -4.4235]\n",
            " [-2.867   5.228  -4.4235  8.227 ]]\n",
            "\n",
            "Correlation Matrix (4x4):\n",
            "[[ 1.         -0.62725902  0.6388079  -0.5581584 ]\n",
            " [-0.62725902  1.         -0.93065773  0.72462934]\n",
            " [ 0.6388079  -0.93065773  1.         -0.56528996]\n",
            " [-0.5581584   0.72462934 -0.56528996  1.        ]]\n",
            "\n"
          ]
        }
      ],
      "source": [
        "import numpy as np\n",
        "rows = 4\n",
        "cols = 5\n",
        "data_matrix = np.array([\n",
        "    [1.2, 3.5, 5.7, 2.1, 4.4],\n",
        "    [6.8, 2.4, 3.6, 8.7, 5.9],\n",
        "    [4.3, 7.1, 8.2, 1.4, 3.7],\n",
        "    [9.8, 2.1, 4.5, 6.2, 7.0]\n",
        "])\n",
        "transposed_matrix = data_matrix.T\n",
        "cov_matrix = np.cov(transposed_matrix, rowvar=False)\n",
        "corr_matrix = np.corrcoef(transposed_matrix, rowvar=False)\n",
        "print(f'Original Matrix ({rows}x{cols}):\\n{data_matrix}\\n')\n",
        "print(f'Covariance Matrix ({rows}x{rows}):\\n{cov_matrix}\\n')\n",
        "print(f'Correlation Matrix ({rows}x{rows}):\\n{corr_matrix}\\n')\n"
      ]
    }
  ]
}