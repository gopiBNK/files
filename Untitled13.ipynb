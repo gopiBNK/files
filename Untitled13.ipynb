{
  "nbformat": 4,
  "nbformat_minor": 0,
  "metadata": {
    "colab": {
      "provenance": [],
      "authorship_tag": "ABX9TyNGJVLm7XUpLkIDqWxjlwNO",
      "include_colab_link": true
    },
    "kernelspec": {
      "name": "python3",
      "display_name": "Python 3"
    },
    "language_info": {
      "name": "python"
    }
  },
  "cells": [
    {
      "cell_type": "markdown",
      "metadata": {
        "id": "view-in-github",
        "colab_type": "text"
      },
      "source": [
        "<a href=\"https://colab.research.google.com/github/gopiBNK/files/blob/main/Untitled13.ipynb\" target=\"_parent\"><img src=\"https://colab.research.google.com/assets/colab-badge.svg\" alt=\"Open In Colab\"/></a>"
      ]
    },
    {
      "cell_type": "code",
      "execution_count": 1,
      "metadata": {
        "colab": {
          "base_uri": "https://localhost:8080/"
        },
        "id": "HlNSWCopVdGk",
        "outputId": "48bfdf39-56b0-4a2f-8e41-97c605be5285"
      },
      "outputs": [
        {
          "output_type": "stream",
          "name": "stdout",
          "text": [
            "AND gate outputs:\n",
            "AND(0,0)=0\n",
            "AND(0,1)=0\n",
            "AND(1,0)=0\n",
            "AND(1,1)=1\n",
            "\n",
            "OR gate outputs:\n",
            "OR(0,0)=0\n",
            "OR(0,1)=1\n",
            "OR(1,0)=1\n",
            "OR(1,1)=1\n",
            "\n",
            "NOT gate outputs:\n",
            "NOT(0) = 1\n",
            "NOT(1) = 0\n",
            "\n",
            "NAND gate outputs:\n",
            "NAND(0, 0) = 1\n",
            "NAND(0, 1) = 1\n",
            "NAND(1, 0) = 1\n",
            "NAND(1, 1) = 0\n",
            "\n",
            "NOR gate outputs:\n",
            "NOR(0, 0) = 1\n",
            "NOR(0, 1) = 0\n",
            "NOR(1, 0) = 0\n",
            "NOR(1, 1) = 0\n",
            "\n",
            "XOR gate outputs:\n",
            "XOR(0, 0) = 0\n",
            "XOR(0, 1) = 1\n",
            "XOR(1, 0) = 1\n",
            "XOR(1, 1) = 0\n"
          ]
        }
      ],
      "source": [
        "\n",
        "def mc_p_neuron(inputs, weights, threshold):\n",
        "    activation = sum(i * w for i, w in zip(inputs, weights))\n",
        "    return 1 if activation >= threshold else 0\n",
        "\n",
        "def AND_gate(x1, x2):\n",
        "    return mc_p_neuron([x1, x2], weights=[1, 1], threshold=2)\n",
        "\n",
        "def OR_gate(x1, x2):\n",
        "    return mc_p_neuron([x1, x2], weights=[1, 1], threshold=1)\n",
        "\n",
        "def NOT_gate(x):\n",
        "    return mc_p_neuron([x], weights=[-1], threshold=0)\n",
        "\n",
        "def NAND_gate(x1, x2):\n",
        "    return mc_p_neuron([x1, x2], weights=[-1, -1], threshold=-1)\n",
        "\n",
        "def NOR_gate(x1, x2):\n",
        "    return mc_p_neuron([x1, x2], weights=[-1, -1], threshold=0)\n",
        "\n",
        "def XOR_gate(x1, x2):\n",
        "    or_output = OR_gate(x1, x2)\n",
        "    nand_output = NAND_gate(x1, x2)\n",
        "    return AND_gate(or_output, nand_output)\n",
        "\n",
        "print(\"AND gate results:\")\n",
        "for a, b in [(0, 0), (0, 1), (1, 0), (1, 1)]:\n",
        "    print(f\"AND({a}, {b}) = {AND_gate(a, b)}\")\n",
        "\n",
        "print(\"\\nOR gate results:\")\n",
        "for a, b in [(0, 0), (0, 1), (1, 0), (1, 1)]:\n",
        "    print(f\"OR({a}, {b}) = {OR_gate(a, b)}\")\n",
        "\n",
        "print(\"\\nNOT gate results:\")\n",
        "for a in [0, 1]:\n",
        "    print(f\"NOT({a}) = {NOT_gate(a)}\")\n",
        "\n",
        "print(\"\\nNAND gate results:\")\n",
        "for a, b in [(0, 0), (0, 1), (1, 0), (1, 1)]:\n",
        "    print(f\"NAND({a}, {b}) = {NAND_gate(a, b)}\")\n",
        "\n",
        "print(\"\\nNOR gate results:\")\n",
        "for a, b in [(0, 0), (0, 1), (1, 0), (1, 1)]:\n",
        "    print(f\"NOR({a}, {b}) = {NOR_gate(a, b)}\")\n",
        "\n",
        "print(\"\\nXOR gate results:\")\n",
        "for a, b in [(0, 0), (0, 1), (1, 0), (1, 1)]:\n",
        "    print(f\"XOR({a}, {b}) = {XOR_gate(a, b)}\")\n"
      ]
    }
  ]
}