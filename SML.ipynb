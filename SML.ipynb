{
  "nbformat": 4,
  "nbformat_minor": 0,
  "metadata": {
    "colab": {
      "provenance": [],
      "mount_file_id": "1YX7GnB0EOZMFD8jpoTBEoW-d6C92tzJN",
      "authorship_tag": "ABX9TyMmnOIAX5+MazgJgiYL7MXi",
      "include_colab_link": true
    },
    "kernelspec": {
      "name": "python3",
      "display_name": "Python 3"
    },
    "language_info": {
      "name": "python"
    }
  },
  "cells": [
    {
      "cell_type": "markdown",
      "metadata": {
        "id": "view-in-github",
        "colab_type": "text"
      },
      "source": [
        "<a href=\"https://colab.research.google.com/github/gopiBNK/files/blob/main/SML.ipynb\" target=\"_parent\"><img src=\"https://colab.research.google.com/assets/colab-badge.svg\" alt=\"Open In Colab\"/></a>"
      ]
    },
    {
      "cell_type": "code",
      "execution_count": 2,
      "metadata": {
        "colab": {
          "base_uri": "https://localhost:8080/"
        },
        "id": "TDdEhKdUV2Hv",
        "outputId": "ee1857f6-dc2c-4694-ec34-db6640c87766"
      },
      "outputs": [
        {
          "output_type": "stream",
          "name": "stdout",
          "text": [
            "R-squared (R²): 0.9347\n",
            "Mean Squared Error (MSE): 83502864.0326\n",
            "Root Mean Squared Error (RMSE): 9137.9902\n",
            "Mean Absolute Error (MAE): 7514.2937\n"
          ]
        }
      ],
      "source": [
        "import pandas as pd\n",
        "import numpy as np\n",
        "startup_data = pd.read_csv('50_Startups.csv')\n",
        "startup_data_encoded = pd.get_dummies(startup_data, columns=['State'], drop_first=True)\n",
        "\n",
        "X = startup_data_encoded.drop(['Profit'], axis=1)\n",
        "y = startup_data_encoded['Profit']\n",
        "\n",
        "from sklearn.preprocessing import StandardScaler\n",
        "scaler = StandardScaler()\n",
        "X_scaled = scaler.fit_transform(X)\n",
        "\n",
        "from sklearn.model_selection import train_test_split\n",
        "X_train, X_test, y_train, y_test = train_test_split(X_scaled, y, test_size=0.2, random_state=0)\n",
        "\n",
        "from sklearn.linear_model import LinearRegression\n",
        "regressor = LinearRegression()\n",
        "regressor.fit(X_train, y_train)\n",
        "y_pred = regressor.predict(X_test)\n",
        "\n",
        "from sklearn.metrics import mean_squared_error, mean_absolute_error, r2_score\n",
        "r_squared = r2_score(y_test, y_pred)\n",
        "mse_value = mean_squared_error(y_test, y_pred)\n",
        "rmse_value = np.sqrt(mse_value)\n",
        "mae_value = mean_absolute_error(y_test, y_pred)\n",
        "\n",
        "\n",
        "print(f'R-squared (R²): {r_squared:.4f}')\n",
        "print(f'Mean Squared Error (MSE): {mse_value:.4f}')\n",
        "print(f'Root Mean Squared Error (RMSE): {rmse_value:.4f}')\n",
        "print(f'Mean Absolute Error (MAE): {mae_value:.4f}')\n"
      ]
    }
  ]
}