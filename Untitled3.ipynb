{
  "nbformat": 4,
  "nbformat_minor": 0,
  "metadata": {
    "colab": {
      "provenance": [],
      "authorship_tag": "ABX9TyMuET4JoW1QOyoI5cAl5rVz",
      "include_colab_link": true
    },
    "kernelspec": {
      "name": "python3",
      "display_name": "Python 3"
    },
    "language_info": {
      "name": "python"
    }
  },
  "cells": [
    {
      "cell_type": "markdown",
      "metadata": {
        "id": "view-in-github",
        "colab_type": "text"
      },
      "source": [
        "<a href=\"https://colab.research.google.com/github/gopiBNK/files/blob/main/Untitled3.ipynb\" target=\"_parent\"><img src=\"https://colab.research.google.com/assets/colab-badge.svg\" alt=\"Open In Colab\"/></a>"
      ]
    },
    {
      "cell_type": "code",
      "execution_count": null,
      "metadata": {
        "id": "piY0P4PLGqg5"
      },
      "outputs": [],
      "source": [
        "import pandas as pd\n",
        "from sklearn.linear_model import LinearRegression\n",
        "from sklearn.feature_selection import SequentialFeatureSelector\n",
        "from sklearn.model_selection import train_test_split\n",
        "from sklearn.metrics import mean_squared_error\n",
        "\n",
        "housing_data = pd.read_csv('melbourne_housing.csv')\n",
        "\n",
        "cleaned_data = housing_data.dropna()\n",
        "\n",
        "X = cleaned_data.drop(columns=['Price'])\n",
        "y = cleaned_data['Price']\n",
        "\n",
        "X_train, X_test, y_train, y_test = train_test_split(X, y, test_size=0.2, random_state=42)\n",
        "\n",
        "linear_reg = LinearRegression()\n",
        "feature_selector = SequentialFeatureSelector(linear_reg, n_features_to_select='auto', direction='forward')\n",
        "\n",
        "feature_selector.fit(X_train, y_train)\n",
        "\n",
        "X_train_selected = feature_selector.transform(X_train)\n",
        "X_test_selected = feature_selector.transform(X_test)\n",
        "\n",
        "linear_reg.fit(X_train_selected, y_train)\n",
        "\n",
        "predictions = linear_reg.predict(X_test_selected)\n",
        "mse_value = mean_squared_error(y_test, predictions)\n",
        "print(f\"Mean Squared Error after forward feature selection: {mse_value}\")\n"
      ]
    }
  ]
}