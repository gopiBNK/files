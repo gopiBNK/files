{
  "nbformat": 4,
  "nbformat_minor": 0,
  "metadata": {
    "colab": {
      "provenance": [],
      "authorship_tag": "ABX9TyPf3fym6R1qjbW2rGrpd+At",
      "include_colab_link": true
    },
    "kernelspec": {
      "name": "python3",
      "display_name": "Python 3"
    },
    "language_info": {
      "name": "python"
    }
  },
  "cells": [
    {
      "cell_type": "markdown",
      "metadata": {
        "id": "view-in-github",
        "colab_type": "text"
      },
      "source": [
        "<a href=\"https://colab.research.google.com/github/gopiBNK/files/blob/main/Untitled0.ipynb\" target=\"_parent\"><img src=\"https://colab.research.google.com/assets/colab-badge.svg\" alt=\"Open In Colab\"/></a>"
      ]
    },
    {
      "cell_type": "code",
      "execution_count": 1,
      "metadata": {
        "colab": {
          "base_uri": "https://localhost:8080/"
        },
        "id": "mXJ7FKmFCt2x",
        "outputId": "dbcb5908-b3fb-4603-d1e9-8ee884aebc7c"
      },
      "outputs": [
        {
          "output_type": "stream",
          "name": "stdout",
          "text": [
            "Model accuracy after applying variance threshold filtering: 0.7467532467532467\n"
          ]
        }
      ],
      "source": [
        "import pandas as pd\n",
        "from sklearn.feature_selection import VarianceThreshold\n",
        "from sklearn.model_selection import train_test_split\n",
        "from sklearn.linear_model import LogisticRegression\n",
        "from sklearn.metrics import accuracy_score\n",
        "\n",
        "data = pd.read_csv('diabetes.csv')\n",
        "\n",
        "features = data.drop(columns=['Outcome'])\n",
        "target = data['Outcome']\n",
        "\n",
        "variance_filter = VarianceThreshold(threshold=0.1)\n",
        "filtered_features = variance_filter.fit_transform(features)\n",
        "\n",
        "X_train, X_test, y_train, y_test = train_test_split(filtered_features, target, test_size=0.2, random_state=42)\n",
        "\n",
        "log_reg_model = LogisticRegression(max_iter=1000)\n",
        "log_reg_model.fit(X_train, y_train)\n",
        "\n",
        "predictions = log_reg_model.predict(X_test)\n",
        "accuracy = accuracy_score(y_test, predictions)\n",
        "print(f\"Model accuracy after applying variance threshold filtering: {accuracy}\")\n"
      ]
    }
  ]
}