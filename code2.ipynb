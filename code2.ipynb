{
  "nbformat": 4,
  "nbformat_minor": 0,
  "metadata": {
    "colab": {
      "provenance": [],
      "authorship_tag": "ABX9TyPzLYeR856jFiOqWWfVstap",
      "include_colab_link": true
    },
    "kernelspec": {
      "name": "python3",
      "display_name": "Python 3"
    },
    "language_info": {
      "name": "python"
    }
  },
  "cells": [
    {
      "cell_type": "markdown",
      "metadata": {
        "id": "view-in-github",
        "colab_type": "text"
      },
      "source": [
        "<a href=\"https://colab.research.google.com/github/gopiBNK/files/blob/main/code2.ipynb\" target=\"_parent\"><img src=\"https://colab.research.google.com/assets/colab-badge.svg\" alt=\"Open In Colab\"/></a>"
      ]
    },
    {
      "cell_type": "code",
      "execution_count": 1,
      "metadata": {
        "colab": {
          "base_uri": "https://localhost:8080/"
        },
        "id": "Lb5I10yR548d",
        "outputId": "7f9b7190-6a90-4857-98ac-070e906c3f36"
      },
      "outputs": [
        {
          "output_type": "stream",
          "name": "stdout",
          "text": [
            "X Vector (1x10): [12  5  9 18 22 35 44 28 13 17]\n",
            "Y Vector (1x10): [14  7 11 20 25 38 42 30 16 19]\n",
            "Covariance: 139.3778\n"
          ]
        }
      ],
      "source": [
        "import numpy as np\n",
        "num_values = 10\n",
        "x_values = np.array([12, 5, 9, 18, 22, 35, 44, 28, 13, 17])\n",
        "y_values = np.array([14, 7, 11, 20, 25, 38, 42, 30, 16, 19])\n",
        "mean_x_values = np.mean(x_values)\n",
        "mean_y_values = np.mean(y_values)\n",
        "covariance_xy = np.sum((x_values - mean_x_values) * (y_values - mean_y_values)) / (num_values - 1)\n",
        "print(f'X Vector (1x{num_values}): {x_values}')\n",
        "print(f'Y Vector (1x{num_values}): {y_values}')\n",
        "print(f'Covariance: {covariance_xy:.4f}')\n"
      ]
    }
  ]
}