{
  "nbformat": 4,
  "nbformat_minor": 0,
  "metadata": {
    "colab": {
      "provenance": [],
      "authorship_tag": "ABX9TyPQ+Sb63SFtPDEEElACmFCz",
      "include_colab_link": true
    },
    "kernelspec": {
      "name": "python3",
      "display_name": "Python 3"
    },
    "language_info": {
      "name": "python"
    }
  },
  "cells": [
    {
      "cell_type": "markdown",
      "metadata": {
        "id": "view-in-github",
        "colab_type": "text"
      },
      "source": [
        "<a href=\"https://colab.research.google.com/github/gopiBNK/files/blob/main/Untitled5.ipynb\" target=\"_parent\"><img src=\"https://colab.research.google.com/assets/colab-badge.svg\" alt=\"Open In Colab\"/></a>"
      ]
    },
    {
      "cell_type": "code",
      "execution_count": null,
      "metadata": {
        "id": "OMBE-a3WIMc4"
      },
      "outputs": [],
      "source": [
        "import pandas as pd\n",
        "from sklearn.ensemble import RandomForestRegressor\n",
        "from sklearn.feature_selection import RFE\n",
        "from sklearn.model_selection import train_test_split\n",
        "from sklearn.metrics import mean_squared_error\n",
        "\n",
        "housing_data = pd.read_csv('melbourne_housing.csv')\n",
        "\n",
        "cleaned_data = housing_data.dropna()\n",
        "\n",
        "X = cleaned_data.drop(columns=['Price'])\n",
        "y = cleaned_data['Price']\n",
        "\n",
        "X_train, X_test, y_train, y_test = train_test_split(X, y, test_size=0.2, random_state=42)\n",
        "\n",
        "random_forest = RandomForestRegressor()\n",
        "feature_selector = RFE(random_forest, n_features_to_select=5)\n",
        "feature_selector.fit(X_train, y_train)\n",
        "\n",
        "X_train_selected = feature_selector.transform(X_train)\n",
        "X_test_selected = feature_selector.transform(X_test)\n",
        "\n",
        "random_forest.fit(X_train_selected, y_train)\n",
        "\n",
        "predictions = random_forest.predict(X_test_selected)\n",
        "mse_value = mean_squared_error(y_test, predictions)\n",
        "print(f\"Mean Squared Error after applying backward feature elimination: {mse_value}\")\n"
      ]
    }
  ]
}