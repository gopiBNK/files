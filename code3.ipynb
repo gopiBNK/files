{
  "nbformat": 4,
  "nbformat_minor": 0,
  "metadata": {
    "colab": {
      "provenance": [],
      "authorship_tag": "ABX9TyPn1DibySwil5pXxP4zJouh",
      "include_colab_link": true
    },
    "kernelspec": {
      "name": "python3",
      "display_name": "Python 3"
    },
    "language_info": {
      "name": "python"
    }
  },
  "cells": [
    {
      "cell_type": "markdown",
      "metadata": {
        "id": "view-in-github",
        "colab_type": "text"
      },
      "source": [
        "<a href=\"https://colab.research.google.com/github/gopiBNK/files/blob/main/code3.ipynb\" target=\"_parent\"><img src=\"https://colab.research.google.com/assets/colab-badge.svg\" alt=\"Open In Colab\"/></a>"
      ]
    },
    {
      "cell_type": "code",
      "execution_count": 1,
      "metadata": {
        "colab": {
          "base_uri": "https://localhost:8080/"
        },
        "id": "xZMtJFSS7QtV",
        "outputId": "b54c03af-e759-46c6-ffcd-6b58b15eb58b"
      },
      "outputs": [
        {
          "output_type": "stream",
          "name": "stdout",
          "text": [
            "X Vector (1x10): [10 12 18 22 29 33 37 41 25 19]\n",
            "Y Vector (1x10): [ 8 11 17 23 28 32 35 39 22 16]\n",
            "Correlation Coefficient: 0.9935\n"
          ]
        }
      ],
      "source": [
        "import numpy as np\n",
        "num_elements = 10\n",
        "x_vals = np.array([10, 12, 18, 22, 29, 33, 37, 41, 25, 19])\n",
        "y_vals = np.array([8, 11, 17, 23, 28, 32, 35, 39, 22, 16])\n",
        "mean_x_vals = np.mean(x_vals)\n",
        "mean_y_vals = np.mean(y_vals)\n",
        "cov_xy = np.sum((x_vals - mean_x_vals) * (y_vals - mean_y_vals)) / (num_elements - 1)\n",
        "var_x = np.var(x_vals, ddof=1)\n",
        "var_y = np.var(y_vals, ddof=1)\n",
        "corr_xy = cov_xy / np.sqrt(var_x * var_y)\n",
        "print(f'X Vector (1x{num_elements}): {x_vals}')\n",
        "print(f'Y Vector (1x{num_elements}): {y_vals}')\n",
        "print(f'Correlation Coefficient: {corr_xy:.4f}')\n"
      ]
    }
  ]
}