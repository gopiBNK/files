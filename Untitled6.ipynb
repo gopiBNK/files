{
  "nbformat": 4,
  "nbformat_minor": 0,
  "metadata": {
    "colab": {
      "provenance": [],
      "authorship_tag": "ABX9TyOaEnb8E0DQPfwsvAFiUtVO",
      "include_colab_link": true
    },
    "kernelspec": {
      "name": "python3",
      "display_name": "Python 3"
    },
    "language_info": {
      "name": "python"
    }
  },
  "cells": [
    {
      "cell_type": "markdown",
      "metadata": {
        "id": "view-in-github",
        "colab_type": "text"
      },
      "source": [
        "<a href=\"https://colab.research.google.com/github/gopiBNK/files/blob/main/Untitled6.ipynb\" target=\"_parent\"><img src=\"https://colab.research.google.com/assets/colab-badge.svg\" alt=\"Open In Colab\"/></a>"
      ]
    },
    {
      "cell_type": "code",
      "execution_count": null,
      "metadata": {
        "id": "blpiFbqGJInx"
      },
      "outputs": [],
      "source": [
        "import pandas as pd\n",
        "from sklearn.ensemble import RandomForestClassifier\n",
        "from sklearn.model_selection import train_test_split\n",
        "from sklearn.metrics import accuracy_score\n",
        "import numpy as np\n",
        "\n",
        "data = pd.read_csv('diabetes.csv')\n",
        "\n",
        "features = data.drop(columns=['Outcome'])\n",
        "target = data['Outcome']\n",
        "\n",
        "X_train, X_test, y_train, y_test = train_test_split(features, target, test_size=0.2, random_state=42)\n",
        "\n",
        "rf_classifier = RandomForestClassifier()\n",
        "rf_classifier.fit(X_train, y_train)\n",
        "\n",
        "feature_importances = rf_classifier.feature_importances_\n",
        "\n",
        "top_5_features = features.columns[np.argsort(feature_importances)[-5:]]\n",
        "\n",
        "X_train_top = X_train[top_5_features]\n",
        "X_test_top = X_test[top_5_features]\n",
        "rf_classifier.fit(X_train_top, y_train)\n",
        "\n",
        "predictions = rf_classifier.predict(X_test_top)\n",
        "accuracy = accuracy_score(y_test, predictions)\n",
        "print(f\"Accuracy using the top 5 features: {accuracy}\")\n"
      ]
    }
  ]
}