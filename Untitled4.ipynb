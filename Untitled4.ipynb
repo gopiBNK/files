{
  "nbformat": 4,
  "nbformat_minor": 0,
  "metadata": {
    "colab": {
      "provenance": [],
      "authorship_tag": "ABX9TyMZn3rUSrDf8nL4TLf3KNEv",
      "include_colab_link": true
    },
    "kernelspec": {
      "name": "python3",
      "display_name": "Python 3"
    },
    "language_info": {
      "name": "python"
    }
  },
  "cells": [
    {
      "cell_type": "markdown",
      "metadata": {
        "id": "view-in-github",
        "colab_type": "text"
      },
      "source": [
        "<a href=\"https://colab.research.google.com/github/gopiBNK/files/blob/main/Untitled4.ipynb\" target=\"_parent\"><img src=\"https://colab.research.google.com/assets/colab-badge.svg\" alt=\"Open In Colab\"/></a>"
      ]
    },
    {
      "cell_type": "code",
      "execution_count": null,
      "metadata": {
        "id": "eikOvZXfHXxu"
      },
      "outputs": [],
      "source": [
        "import pandas as pd\n",
        "from sklearn.tree import DecisionTreeClassifier\n",
        "from sklearn.feature_selection import RFE\n",
        "from sklearn.model_selection import train_test_split\n",
        "from sklearn.metrics import accuracy_score\n",
        "\n",
        "data = pd.read_csv('diabetes.csv')\n",
        "\n",
        "features = data.drop(columns=['Outcome'])\n",
        "target = data['Outcome']\n",
        "\n",
        "X_train, X_test, y_train, y_test = train_test_split(features, target, test_size=0.2, random_state=42)\n",
        "\n",
        "decision_tree = DecisionTreeClassifier()\n",
        "feature_selector = RFE(decision_tree, n_features_to_select=5)\n",
        "feature_selector.fit(X_train, y_train)\n",
        "\n",
        "X_train_selected = feature_selector.transform(X_train)\n",
        "X_test_selected = feature_selector.transform(X_test)\n",
        "\n",
        "decision_tree.fit(X_train_selected, y_train)\n",
        "\n",
        "predictions = decision_tree.predict(X_test_selected)\n",
        "accuracy = accuracy_score(y_test, predictions)\n",
        "print(f\"Model accuracy after applying backward feature elimination: {accuracy}\")\n"
      ]
    }
  ]
}