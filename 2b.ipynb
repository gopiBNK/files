{
  "nbformat": 4,
  "nbformat_minor": 0,
  "metadata": {
    "colab": {
      "provenance": [],
      "authorship_tag": "ABX9TyNxYdfndcfVA3W1UPyekzQF",
      "include_colab_link": true
    },
    "kernelspec": {
      "name": "python3",
      "display_name": "Python 3"
    },
    "language_info": {
      "name": "python"
    }
  },
  "cells": [
    {
      "cell_type": "markdown",
      "metadata": {
        "id": "view-in-github",
        "colab_type": "text"
      },
      "source": [
        "<a href=\"https://colab.research.google.com/github/gopiBNK/files/blob/main/2b.ipynb\" target=\"_parent\"><img src=\"https://colab.research.google.com/assets/colab-badge.svg\" alt=\"Open In Colab\"/></a>"
      ]
    },
    {
      "cell_type": "code",
      "execution_count": null,
      "metadata": {
        "id": "bnrXDLnMAVx6"
      },
      "outputs": [],
      "source": [
        "import pandas as pd\n",
        "import numpy as np\n",
        "from sklearn.model_selection import train_test_split\n",
        "from sklearn.linear_model import LinearRegression\n",
        "from sklearn.metrics import mean_squared_error\n",
        "\n",
        "housing_data = pd.read_csv('melbourne_housing.csv')\n",
        "\n",
        "correlation_matrix = housing_data.corr().abs()\n",
        "\n",
        "upper_triangle_matrix = correlation_matrix.where(np.triu(np.ones(correlation_matrix.shape), k=1).astype(bool))\n",
        "\n",
        "high_correlation_features = [col for col in upper_triangle_matrix.columns if any(upper_triangle_matrix[col] > 0.85)]\n",
        "\n",
        "reduced_data = housing_data.drop(columns=high_correlation_features)\n",
        "\n",
        "reduced_data = reduced_data.dropna()\n",
        "\n",
        "X = reduced_data.drop(columns=['Price'])\n",
        "y = reduced_data['Price']\n",
        "\n",
        "X_train, X_test, y_train, y_test = train_test_split(X, y, test_size=0.2, random_state=42)\n",
        "\n",
        "linear_regressor = LinearRegression()\n",
        "linear_regressor.fit(X_train, y_train)\n",
        "\n",
        "predictions = linear_regressor.predict(X_test)\n",
        "mse_value = mean_squared_error(y_test, predictions)\n",
        "print(f\"Mean Squared Error after removing highly correlated features: {mse_value}\")\n"
      ]
    }
  ]
}